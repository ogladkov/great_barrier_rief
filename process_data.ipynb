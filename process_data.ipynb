{
 "cells": [
  {
   "cell_type": "code",
   "execution_count": 1,
   "id": "bcd914c7",
   "metadata": {},
   "outputs": [],
   "source": [
    "import pandas as pd\n",
    "import numpy as np\n",
    "import os, cv2, json\n",
    "from tqdm import tqdm\n",
    "from sklearn.utils import shuffle"
   ]
  },
  {
   "cell_type": "code",
   "execution_count": 2,
   "id": "ca6ef473",
   "metadata": {},
   "outputs": [],
   "source": [
    "class CFG:\n",
    "    data_dir = './data'\n",
    "    train_dir = os.path.join(data_dir, 'train_images')\n",
    "    img_size = (720, 1280)\n",
    "    \n",
    "cfg = CFG()"
   ]
  },
  {
   "cell_type": "code",
   "execution_count": 3,
   "id": "c1b6623b",
   "metadata": {},
   "outputs": [
    {
     "data": {
      "text/html": [
       "<div>\n",
       "<style scoped>\n",
       "    .dataframe tbody tr th:only-of-type {\n",
       "        vertical-align: middle;\n",
       "    }\n",
       "\n",
       "    .dataframe tbody tr th {\n",
       "        vertical-align: top;\n",
       "    }\n",
       "\n",
       "    .dataframe thead th {\n",
       "        text-align: right;\n",
       "    }\n",
       "</style>\n",
       "<table border=\"1\" class=\"dataframe\">\n",
       "  <thead>\n",
       "    <tr style=\"text-align: right;\">\n",
       "      <th></th>\n",
       "      <th>video_id</th>\n",
       "      <th>sequence</th>\n",
       "      <th>video_frame</th>\n",
       "      <th>sequence_frame</th>\n",
       "      <th>image_id</th>\n",
       "      <th>annotations</th>\n",
       "    </tr>\n",
       "  </thead>\n",
       "  <tbody>\n",
       "    <tr>\n",
       "      <th>0</th>\n",
       "      <td>0</td>\n",
       "      <td>40258</td>\n",
       "      <td>0</td>\n",
       "      <td>0</td>\n",
       "      <td>0-0</td>\n",
       "      <td>[]</td>\n",
       "    </tr>\n",
       "    <tr>\n",
       "      <th>1</th>\n",
       "      <td>0</td>\n",
       "      <td>40258</td>\n",
       "      <td>1</td>\n",
       "      <td>1</td>\n",
       "      <td>0-1</td>\n",
       "      <td>[]</td>\n",
       "    </tr>\n",
       "    <tr>\n",
       "      <th>2</th>\n",
       "      <td>0</td>\n",
       "      <td>40258</td>\n",
       "      <td>2</td>\n",
       "      <td>2</td>\n",
       "      <td>0-2</td>\n",
       "      <td>[]</td>\n",
       "    </tr>\n",
       "    <tr>\n",
       "      <th>3</th>\n",
       "      <td>0</td>\n",
       "      <td>40258</td>\n",
       "      <td>3</td>\n",
       "      <td>3</td>\n",
       "      <td>0-3</td>\n",
       "      <td>[]</td>\n",
       "    </tr>\n",
       "    <tr>\n",
       "      <th>4</th>\n",
       "      <td>0</td>\n",
       "      <td>40258</td>\n",
       "      <td>4</td>\n",
       "      <td>4</td>\n",
       "      <td>0-4</td>\n",
       "      <td>[]</td>\n",
       "    </tr>\n",
       "  </tbody>\n",
       "</table>\n",
       "</div>"
      ],
      "text/plain": [
       "   video_id  sequence  video_frame  sequence_frame image_id annotations\n",
       "0         0     40258            0               0      0-0          []\n",
       "1         0     40258            1               1      0-1          []\n",
       "2         0     40258            2               2      0-2          []\n",
       "3         0     40258            3               3      0-3          []\n",
       "4         0     40258            4               4      0-4          []"
      ]
     },
     "execution_count": 3,
     "metadata": {},
     "output_type": "execute_result"
    }
   ],
   "source": [
    "train_df = pd.read_csv('./data/train.csv')\n",
    "train_df.head()"
   ]
  },
  {
   "cell_type": "code",
   "execution_count": null,
   "id": "8e03e784",
   "metadata": {},
   "outputs": [],
   "source": [
    "def draw_frame(frame_data):\n",
    "    _, _, _, _, image_id, annots = frame_data\n",
    "    video_num, frame_num = image_id.split('-')\n",
    "    \n",
    "    fpath = os.path.join(cfg.train_dir, f'video_{video_num}', f'{frame_num}.jpg')\n",
    "    img = cv2.imread(fpath)\n",
    "    annots = json.loads(annots.replace(\"'\", '\"'))\n",
    "    \n",
    "    for annot in annots:\n",
    "        xmin = int(annot['x'])\n",
    "        ymin = int(annot['y'])\n",
    "        xmax = int(annot['x']) + int(annot['width'])\n",
    "        ymax = int(annot['y']) + int(annot['height'])\n",
    "        img = cv2.rectangle(img, (xmin, ymin), (xmax, ymax), (0, 0, 255), 2)\n",
    "        \n",
    "    cv2.imshow('img', img)\n",
    "    cv2.waitKey()\n",
    "    cv2.destroyAllWindows()\n",
    "    \n",
    "\n",
    "draw_frame(train_df.iloc[57].values)"
   ]
  },
  {
   "cell_type": "code",
   "execution_count": 8,
   "id": "b38a3979",
   "metadata": {},
   "outputs": [],
   "source": [
    "def create_yolo5_dataset(train_df):\n",
    "    df = shuffle(train_df)\n",
    "    thresh = int(df.shape[0] * 0.8)\n",
    "    for x in tqdm(range(df.shape[0])):\n",
    "        if x <= thresh:\n",
    "            train_val = 'train'\n",
    "        else:\n",
    "            train_val = 'val'\n",
    "        \n",
    "        frame_data = df.iloc[x]\n",
    "        _, _, _, _, image_id, annots = frame_data\n",
    "        video_num, frame_num = image_id.split('-')\n",
    "\n",
    "        fpath = os.path.join(cfg.train_dir, f'video_{video_num}', f'{frame_num}.jpg')\n",
    "        img = cv2.imread(fpath)\n",
    "        annots = json.loads(annots.replace(\"'\", '\"'))\n",
    "        \n",
    "        new_img_path = os.path.join(f'/home/sm00th/Projects/kaggle/great_barrier_reef/yolo_dataset/images/{train_val}', f'{video_num}_{frame_num}.jpg')\n",
    "        new_annot_path = os.path.join(f'/home/sm00th/Projects/kaggle/great_barrier_reef/yolo_dataset/labels/{train_val}', f'{video_num}_{frame_num}.txt')\n",
    "        \n",
    "        if annots != []:\n",
    "            with open(new_annot_path, 'a') as txt:\n",
    "                for annot in annots:\n",
    "                    xmin = int(annot['x'])\n",
    "                    ymin = int(annot['y'])\n",
    "                    xmax = int(annot['x']) + int(annot['width'])\n",
    "                    ymax = int(annot['y']) + int(annot['height'])\n",
    "\n",
    "                    xc = (int(annot['x']) + int(annot['width']) / 2) / cfg.img_size[1]\n",
    "                    yc = (int(annot['y']) + int(annot['height']) / 2)  / cfg.img_size[0]\n",
    "                    w = int(annot['width']) / cfg.img_size[1]\n",
    "                    h = int(annot['height']) / cfg.img_size[0]\n",
    "\n",
    "                    data = f'0 {str(xc)} {str(yc)} {str(w)} {str(h)}\\n'\n",
    "                    txt.write(data)\n",
    "                    \n",
    "            cv2.imwrite(new_img_path, img)"
   ]
  },
  {
   "cell_type": "code",
   "execution_count": 9,
   "id": "007d2320",
   "metadata": {},
   "outputs": [
    {
     "name": "stderr",
     "output_type": "stream",
     "text": [
      "100%|██████████████████████████████████████████████████████████████████████████████████████████████| 23501/23501 [10:51<00:00, 36.09it/s]\n"
     ]
    }
   ],
   "source": [
    "create_yolo5_dataset(train_df)"
   ]
  },
  {
   "cell_type": "code",
   "execution_count": null,
   "id": "6256b54f",
   "metadata": {},
   "outputs": [],
   "source": []
  }
 ],
 "metadata": {
  "kernelspec": {
   "display_name": "Python [conda env:sartorius2] *",
   "language": "python",
   "name": "conda-env-sartorius2-py"
  },
  "language_info": {
   "codemirror_mode": {
    "name": "ipython",
    "version": 3
   },
   "file_extension": ".py",
   "mimetype": "text/x-python",
   "name": "python",
   "nbconvert_exporter": "python",
   "pygments_lexer": "ipython3",
   "version": "3.8.12"
  }
 },
 "nbformat": 4,
 "nbformat_minor": 5
}
